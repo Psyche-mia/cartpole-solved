{
  "nbformat": 4,
  "nbformat_minor": 0,
  "metadata": {
    "colab": {
      "name": "prior.ipynb",
      "version": "0.3.2",
      "provenance": [],
      "collapsed_sections": []
    },
    "kernelspec": {
      "name": "python3",
      "display_name": "Python 3"
    }
  },
  "cells": [
    {
      "metadata": {
        "id": "f5A7LWa0XoLM",
        "colab_type": "text"
      },
      "cell_type": "markdown",
      "source": [
        "Part of https://github.com/htdt/cartpole-solved"
      ]
    },
    {
      "metadata": {
        "id": "XB3hFYr6hisD",
        "colab_type": "code",
        "colab": {}
      },
      "cell_type": "code",
      "source": [
        "!pip install torch_nightly -f https://download.pytorch.org/whl/nightly/cpu/torch_nightly.html\n",
        "!pip install -q gym ipdb"
      ],
      "execution_count": 0,
      "outputs": []
    },
    {
      "metadata": {
        "id": "zJr-1s4fYuhB",
        "colab_type": "code",
        "colab": {}
      },
      "cell_type": "code",
      "source": [
        "!wget -N -q -o - https://raw.githubusercontent.com/htdt/cartpole-solved/master/segment_tree.py"
      ],
      "execution_count": 0,
      "outputs": []
    },
    {
      "metadata": {
        "id": "tEIxLMSmZ18R",
        "colab_type": "code",
        "colab": {}
      },
      "cell_type": "code",
      "source": [
        "from collections import deque\n",
        "import gym, random, math, ipdb\n",
        "from tqdm import trange\n",
        "import numpy as np\n",
        "\n",
        "import torch\n",
        "import torch.nn as nn\n",
        "import torch.optim as optim\n",
        "\n",
        "from segment_tree import SumDeque\n",
        "\n",
        "gym.logger.set_level(40)"
      ],
      "execution_count": 0,
      "outputs": []
    },
    {
      "metadata": {
        "id": "NIuUihaPJw1D",
        "colab_type": "code",
        "colab": {}
      },
      "cell_type": "code",
      "source": [
        "import matplotlib.pyplot as plt\n",
        "%matplotlib inline"
      ],
      "execution_count": 0,
      "outputs": []
    },
    {
      "metadata": {
        "id": "GzvYKXl8ig8Q",
        "colab_type": "code",
        "colab": {}
      },
      "cell_type": "code",
      "source": [
        "class DQN(nn.Module):\n",
        "  input_dim = 4\n",
        "  output_dim = 2\n",
        "  hidden = 32\n",
        "\n",
        "  def __init__(self):\n",
        "    super(DQN, self).__init__()\n",
        "    self.features = nn.Sequential(\n",
        "      nn.Linear(self.input_dim, self.hidden),\n",
        "      nn.ReLU(),\n",
        "      nn.Linear(self.hidden, self.hidden),\n",
        "      nn.ReLU())\n",
        "    self.adv = nn.Linear(self.hidden, self.output_dim)\n",
        "    self.val = nn.Linear(self.hidden, 1)\n",
        "\n",
        "  def forward(self, x):\n",
        "    x = self.features(x)\n",
        "    adv = self.adv(x)\n",
        "    val = self.val(x)\n",
        "    return val + adv - adv.mean(1, keepdim=True)"
      ],
      "execution_count": 0,
      "outputs": []
    },
    {
      "metadata": {
        "id": "FZblc6DQjOEe",
        "colab_type": "code",
        "colab": {}
      },
      "cell_type": "code",
      "source": [
        "class Agent:\n",
        "  output_dim = 2\n",
        "  lr = 1e-3\n",
        "  batch_size = 32\n",
        "  gamma = 0.99\n",
        "\n",
        "  def __init__(self):\n",
        "    self.online_net = DQN()\n",
        "    self.online_net.train()\n",
        "\n",
        "    self.target_net = DQN()\n",
        "    self.update_target_net()\n",
        "    for param in self.target_net.parameters(): param.requires_grad = False\n",
        "\n",
        "    self.optimiser = optim.Adam(self.online_net.parameters(), lr=self.lr)\n",
        "\n",
        "  def act(self, state):\n",
        "    state = torch.FloatTensor(state).unsqueeze(0)\n",
        "    with torch.no_grad():\n",
        "      return self.online_net(state).argmax(1).item()\n",
        "\n",
        "  def act_e_greedy(self, state, epsilon=0.01):\n",
        "    if random.random() < epsilon:\n",
        "      return random.randrange(self.output_dim)\n",
        "    else:\n",
        "      return self.act(state)\n",
        "\n",
        "  def train_iter(self, buffer):\n",
        "    state, action, reward, next_state, terminal, weights, idx = buffer.sample(self.batch_size)\n",
        "       \n",
        "    q_value = self.online_net(state)[range(self.batch_size), action]\n",
        "    with torch.no_grad():\n",
        "      next_state_action = self.online_net(next_state).max(1)[1] # online_net to get action for next_state\n",
        "      next_qv = self.target_net(next_state)[range(self.batch_size), next_state_action] # target_net to get Q\n",
        "      target_qv = reward + self.gamma * (1 - terminal) * next_qv\n",
        "    \n",
        "    loss = (q_value - target_qv).pow(2)\n",
        "    #loss *= weights\n",
        "    buffer.update_prior(idx, loss.tolist())\n",
        "\n",
        "    self.optimiser.zero_grad()\n",
        "    loss.mean().backward()\n",
        "    self.optimiser.step()\n",
        "\n",
        "\n",
        "  def update_target_net(self):\n",
        "    self.target_net.load_state_dict(self.online_net.state_dict())"
      ],
      "execution_count": 0,
      "outputs": []
    },
    {
      "metadata": {
        "id": "LREzvbrWks_j",
        "colab_type": "code",
        "colab": {}
      },
      "cell_type": "code",
      "source": [
        "class ReplayBuffer():\n",
        "  def __init__(self, capacity):\n",
        "    self.capacity = capacity\n",
        "    self._buffer = deque(maxlen=capacity)\n",
        "    self._prior = SumDeque(capacity)\n",
        "    self._prior.max = 1.\n",
        "  \n",
        "  def append(self, t):\n",
        "    self._buffer.append(t)\n",
        "    self._prior.append(self._prior.max)\n",
        "    \n",
        "  def sample(self, batch_size):\n",
        "    idx = [self._prior.find_prefixsum_idx(random.random() * self._prior.sum()) for _ in range(batch_size)]\n",
        "    weights = 1. / np.sqrt([self._prior[i] for i in idx]) # hardcoded beta = .5\n",
        "    weights /= weights.max()\n",
        "    tt = [self._buffer[i] for i in idx]\n",
        "    s, a, r, ns, t = zip(*tt)\n",
        "    f, l = torch.FloatTensor, torch.LongTensor\n",
        "    return f(s), l(a), f(r), f(ns), f(t), f(weights), idx\n",
        "\n",
        "  def update_prior(self, idxes, losses):\n",
        "    for idx, loss in zip(idxes, losses):\n",
        "      self._prior[idx] = np.sqrt(loss) # hardcoded alpha = .5\n",
        "\n",
        "  def __len__(self):\n",
        "    return len(self._buffer)"
      ],
      "execution_count": 0,
      "outputs": []
    },
    {
      "metadata": {
        "id": "0T0EHr87jQTe",
        "colab_type": "code",
        "colab": {
          "base_uri": "https://localhost:8080/",
          "height": 355
        },
        "outputId": "6f7cd253-67d6-4b45-d5a5-58150f67820e"
      },
      "cell_type": "code",
      "source": [
        "buffer = ReplayBuffer(5000)\n",
        "env = gym.make(\"CartPole-v0\")\n",
        "agent = Agent()\n",
        "\n",
        "rewards = []\n",
        "episode_reward = 0\n",
        "state = env.reset()\n",
        "\n",
        "for i in trange(10000):\n",
        "  eps = .01 + .99 * math.exp(-i / 500) # close to .01 at 3500\n",
        "  action = agent.act_e_greedy(state, eps)\n",
        "  next_state, reward, done, _ = env.step(action)\n",
        "  buffer.append((state, action, reward, next_state, done))\n",
        "  \n",
        "  state = next_state\n",
        "  episode_reward += reward\n",
        "  \n",
        "  if done:\n",
        "    state = env.reset()\n",
        "    rewards.append(episode_reward)\n",
        "    episode_reward = 0\n",
        "    \n",
        "  if i > 100:\n",
        "    agent.train_iter(buffer)\n",
        "   \n",
        "  if i > 100 and i % 100 == 0:\n",
        "    agent.update_target_net()\n",
        "\n",
        "plt.figure(figsize=(20,5))\n",
        "plt.subplot(131)\n",
        "plt.plot(rewards)\n",
        "plt.subplot(132)\n",
        "plt.plot(list(buffer._prior))\n",
        "plt.plot(list(map(lambda t: int(t[-1]), buffer._buffer)))\n",
        "print(buffer._prior.max)"
      ],
      "execution_count": 8,
      "outputs": [
        {
          "output_type": "stream",
          "text": [
            "100%|██████████| 10000/10000 [01:29<00:00, 176.72it/s]\n"
          ],
          "name": "stderr"
        },
        {
          "output_type": "stream",
          "text": [
            "76.87257364057092\n"
          ],
          "name": "stdout"
        },
        {
          "output_type": "display_data",
          "data": {
            "image/png": "[encoded data removed]",
            "text/plain": [
              "<matplotlib.figure.Figure at 0x7f21e5ce7fd0>"
            ]
          },
          "metadata": {
            "tags": []
          }
        }
      ]
    },
    {
      "metadata": {
        "id": "g2nKbWOtsyjz",
        "colab_type": "code",
        "colab": {}
      },
      "cell_type": "code",
      "source": [
        ""
      ],
      "execution_count": 0,
      "outputs": []
    }
  ]
}