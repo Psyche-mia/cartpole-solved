{
  "nbformat": 4,
  "nbformat_minor": 0,
  "metadata": {
    "colab": {
      "name": "iqn.ipynb",
      "version": "0.3.2",
      "provenance": [],
      "collapsed_sections": []
    },
    "kernelspec": {
      "name": "python3",
      "display_name": "Python 3"
    }
  },
  "cells": [
    {
      "metadata": {
        "id": "bhZ3n3TxXyot",
        "colab_type": "text"
      },
      "cell_type": "markdown",
      "source": [
        "Part of https://github.com/htdt/cartpole-solved"
      ]
    },
    {
      "metadata": {
        "id": "6Dl1Vqz_uZ1Y",
        "colab_type": "code",
        "colab": {}
      },
      "cell_type": "code",
      "source": [
        "!pip install torch_nightly -f https://download.pytorch.org/whl/nightly/cpu/torch_nightly.html\n",
        "!pip install -q gym ipdb"
      ],
      "execution_count": 0,
      "outputs": []
    },
    {
      "metadata": {
        "id": "fZg7tVEP6sGj",
        "colab_type": "code",
        "colab": {}
      },
      "cell_type": "code",
      "source": [
        "from collections import deque\n",
        "import gym, random, math, ipdb\n",
        "from tqdm import trange\n",
        "import numpy as np\n",
        "\n",
        "import torch\n",
        "import torch.nn as nn\n",
        "import torch.optim as optim\n",
        "\n",
        "gym.logger.set_level(40)"
      ],
      "execution_count": 0,
      "outputs": []
    },
    {
      "metadata": {
        "id": "04xWUEGXFoS1",
        "colab_type": "code",
        "colab": {}
      },
      "cell_type": "code",
      "source": [
        "import matplotlib.pyplot as plt\n",
        "%matplotlib inline"
      ],
      "execution_count": 0,
      "outputs": []
    },
    {
      "metadata": {
        "id": "hugvEbVZ16wR",
        "colab_type": "code",
        "colab": {}
      },
      "cell_type": "code",
      "source": [
        "class DQN(nn.Module):\n",
        "  input_dim = 4\n",
        "  output_dim = 2\n",
        "  hidden = 32\n",
        "  quantile_dim = 8 # embedding dim\n",
        "\n",
        "  def __init__(self):\n",
        "    super(DQN, self).__init__()\n",
        "    fc = lambda s_in, s_out: nn.Sequential(nn.Linear(s_in, s_out), nn.ReLU())\n",
        "    self.features = fc(self.input_dim, self.hidden)\n",
        "    self.quantile_fc = fc(self.quantile_dim, self.hidden)\n",
        "    self.head_fc = fc(self.hidden, self.hidden)\n",
        "    self.adv = nn.Linear(self.hidden, self.output_dim)\n",
        "    self.val = nn.Linear(self.hidden, 1)\n",
        "\n",
        "  def forward(self, x, num_quantiles):\n",
        "    batch_size = x.shape[0]\n",
        "    x = self.features(x) # batch x hidden\n",
        "    x = x.repeat(num_quantiles, 1) # batch * num_quantiles x hidden\n",
        "    qn, quantiles = self._get_quantile(batch_size * num_quantiles) # batch * num_quantiles x quantile_dim\n",
        "    qn = self.quantile_fc(qn) # batch * num_quantiles x hidden\n",
        "    x = x * qn\n",
        "    x = self.head_fc(x)\n",
        "    adv = self.adv(x)\n",
        "    val = self.val(x)\n",
        "    q = val + adv - adv.mean(1, keepdim=True)\n",
        "    return q, quantiles\n",
        "\n",
        "  def _get_quantile(self, size):\n",
        "    quantiles = torch.empty(size, 1, dtype=torch.float32).uniform_()\n",
        "    quantile_net = quantiles.repeat(1, self.quantile_dim)\n",
        "    embedding_range = torch.arange(1, self.quantile_dim + 1, dtype=torch.float32).unsqueeze(0)\n",
        "    return torch.cos(embedding_range * math.pi * quantile_net), quantiles\n"
      ],
      "execution_count": 0,
      "outputs": []
    },
    {
      "metadata": {
        "id": "6EKVMKR__LpT",
        "colab_type": "code",
        "colab": {}
      },
      "cell_type": "code",
      "source": [
        "class Agent:\n",
        "  output_dim = 2\n",
        "  lr = 1e-3\n",
        "  batch_size = 32\n",
        "  gamma = 0.99\n",
        "\n",
        "  kappa = 1  # Huber loss cutoff\n",
        "  num_t = 8  # number of online quantile samples for loss estimation\n",
        "  num_tp = 8 # number of target quantile samples for loss estimation\n",
        "  num_q = 8  # number of quantile samples for computing Q-values\n",
        "\n",
        "  def __init__(self):\n",
        "    self.online_net = DQN()\n",
        "    self.online_net.train()\n",
        "\n",
        "    self.target_net = DQN()\n",
        "    self.update_target_net()\n",
        "    for param in self.target_net.parameters(): param.requires_grad = False\n",
        "\n",
        "    self.optimiser = optim.Adam(self.online_net.parameters(), lr=self.lr)\n",
        "\n",
        "  def act(self, state):\n",
        "    state = torch.FloatTensor(state).unsqueeze(0)\n",
        "    with torch.no_grad():\n",
        "      q, _ = self.online_net(state, self.num_q)\n",
        "      return q.mean(0).argmax(0).item()\n",
        "\n",
        "  def act_e_greedy(self, state, epsilon=0.01):\n",
        "    if random.random() < epsilon:\n",
        "      return random.randrange(self.output_dim)\n",
        "    else:\n",
        "      return self.act(state)\n",
        "\n",
        "  def _target_quantile_values(self, reward, next_state, terminal):\n",
        "    with torch.no_grad():\n",
        "      reward = reward.repeat(self.num_tp)\n",
        "      gamma_with_terminal = (self.gamma * (1 - terminal)).repeat(self.num_tp)\n",
        "\n",
        "      # for action selection for the next states\n",
        "      action_q, _ = self.online_net(next_state, self.num_q) # online_net to get action for next_state\n",
        "      action_q = action_q.view(self.num_q, self.batch_size, self.output_dim).mean(0)\n",
        "      actions = action_q.argmax(1) # batch_size\n",
        "      actions = actions.repeat(self.num_tp)\n",
        "\n",
        "      target_q, _ = self.target_net(next_state, self.num_tp) # target_net to get Q\n",
        "      target_q = target_q[range(self.batch_size * self.num_tp), actions]\n",
        "\n",
        "      return reward + gamma_with_terminal * target_q\n",
        "\n",
        "  def _sample_batch(self, buffer):\n",
        "    s, a, r, ns, t = zip(*random.sample(buffer, self.batch_size))\n",
        "    f, l = torch.FloatTensor, torch.LongTensor\n",
        "    return f(s), l(a), f(r), f(ns), f(t)\n",
        "  \n",
        "  def _huber_loss(self, bellman_errors):\n",
        "    be_abs = bellman_errors.abs()\n",
        "    huber_loss_1 = (be_abs <= self.kappa).float() * 0.5 * bellman_errors ** 2\n",
        "    huber_loss_2 = (be_abs > self.kappa).float() * self.kappa * (be_abs - 0.5 * self.kappa)\n",
        "    return huber_loss_1 + huber_loss_2\n",
        "  \n",
        "  def _same_shape(self, q_value, target_qv, quantiles): # batch x num_tp x num_t\n",
        "    return q_value.view(self.num_t, self.batch_size).t().unsqueeze(1),\\\n",
        "      target_qv.view(self.num_tp, self.batch_size).t().unsqueeze(2),\\\n",
        "      quantiles.view(self.num_t, self.batch_size).t().unsqueeze(1).repeat(1, self.num_tp, 1)\n",
        "\n",
        "  def train_iter(self, buffer):\n",
        "    state, action, reward, next_state, terminal = self._sample_batch(buffer)\n",
        "    \n",
        "    q_values, quantiles = self.online_net(state, self.num_t)\n",
        "    action = action.repeat(self.num_t)\n",
        "    q_value = q_values[range(self.batch_size * self.num_t), action]\n",
        "\n",
        "    target_qv = self._target_quantile_values(reward, next_state, terminal)\n",
        "\n",
        "    q_value, target_qv, quantiles = self._same_shape(q_value, target_qv, quantiles)\n",
        "\n",
        "    bellman_errors = target_qv - q_value\n",
        "    huber_loss = self._huber_loss(bellman_errors)\n",
        "    neg_errors = (bellman_errors.detach() < 0).float()\n",
        "    quantile_huber_loss = (quantiles - neg_errors).abs() * huber_loss / self.kappa\n",
        "    loss = quantile_huber_loss.sum(2).mean()\n",
        "\n",
        "    self.optimiser.zero_grad()\n",
        "    loss.backward()\n",
        "    self.optimiser.step()\n",
        "    return loss.item()\n",
        "\n",
        "  def update_target_net(self):\n",
        "    self.target_net.load_state_dict(self.online_net.state_dict())"
      ],
      "execution_count": 0,
      "outputs": []
    },
    {
      "metadata": {
        "id": "2Urg4wcU-pof",
        "colab_type": "code",
        "colab": {
          "base_uri": "https://localhost:8080/",
          "height": 354
        },
        "outputId": "b4574443-a1c8-4435-de5e-c1483da6a1b4"
      },
      "cell_type": "code",
      "source": [
        "buffer = deque(maxlen=5000)\n",
        "env = gym.make(\"CartPole-v0\")\n",
        "agent = Agent()\n",
        "\n",
        "rewards, loss = [], []\n",
        "episode_reward = 0\n",
        "state = env.reset()\n",
        "\n",
        "for i in trange(10000):\n",
        "  eps = .01 + .99 * math.exp(-i / 500) # close to .01 at 3500\n",
        "  action = agent.act_e_greedy(state, eps)\n",
        "  next_state, reward, done, _ = env.step(action)\n",
        "  buffer.append((state, action, reward, next_state, done))\n",
        "  \n",
        "  state = next_state\n",
        "  episode_reward += reward\n",
        "  \n",
        "  if done:\n",
        "    state = env.reset()\n",
        "    rewards.append(episode_reward)\n",
        "    episode_reward = 0\n",
        "    \n",
        "  if i > 100:\n",
        "    loss.append(agent.train_iter(buffer))\n",
        "   \n",
        "  if i > 100 and i % 100 == 0:\n",
        "    agent.update_target_net()\n",
        "\n",
        "plt.figure(figsize=(20,5))\n",
        "plt.subplot(131)\n",
        "plt.plot(rewards)\n",
        "plt.subplot(132)\n",
        "plt.plot(loss)"
      ],
      "execution_count": 6,
      "outputs": [
        {
          "output_type": "stream",
          "text": [
            "100%|██████████| 10000/10000 [01:37<00:00, 102.29it/s]\n"
          ],
          "name": "stderr"
        },
        {
          "output_type": "execute_result",
          "data": {
            "text/plain": [
              "[<matplotlib.lines.Line2D at 0x7f9b3a6ff828>]"
            ]
          },
          "metadata": {
            "tags": []
          },
          "execution_count": 6
        },
        {
          "output_type": "display_data",
          "data": {
            "image/png": "[encoded data removed]",
            "text/plain": [
              "<matplotlib.figure.Figure at 0x7f9b479694a8>"
            ]
          },
          "metadata": {
            "tags": []
          }
        }
      ]
    },
    {
      "metadata": {
        "id": "sgDb0LJMvyf1",
        "colab_type": "code",
        "colab": {}
      },
      "cell_type": "code",
      "source": [
        ""
      ],
      "execution_count": 0,
      "outputs": []
    }
  ]
}