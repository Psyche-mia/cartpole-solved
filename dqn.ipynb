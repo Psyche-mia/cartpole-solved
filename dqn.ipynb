{
  "nbformat": 4,
  "nbformat_minor": 0,
  "metadata": {
    "colab": {
      "name": "dqn.ipynb",
      "version": "0.3.2",
      "provenance": [],
      "collapsed_sections": []
    },
    "kernelspec": {
      "name": "python3",
      "display_name": "Python 3"
    }
  },
  "cells": [
    {
      "metadata": {
        "id": "MJyTf0SFP222",
        "colab_type": "text"
      },
      "cell_type": "markdown",
      "source": [
        "Part of https://github.com/htdt/cartpole-solved"
      ]
    },
    {
      "metadata": {
        "id": "6Dl1Vqz_uZ1Y",
        "colab_type": "code",
        "colab": {}
      },
      "cell_type": "code",
      "source": [
        "!pip install torch_nightly -f https://download.pytorch.org/whl/nightly/cpu/torch_nightly.html\n",
        "!pip install -q gym ipdb"
      ],
      "execution_count": 0,
      "outputs": []
    },
    {
      "metadata": {
        "id": "fZg7tVEP6sGj",
        "colab_type": "code",
        "colab": {}
      },
      "cell_type": "code",
      "source": [
        "from collections import deque\n",
        "import gym, random, math, ipdb\n",
        "from tqdm import trange\n",
        "import numpy as np\n",
        "\n",
        "import torch\n",
        "import torch.nn as nn\n",
        "import torch.optim as optim\n",
        "\n",
        "gym.logger.set_level(40)"
      ],
      "execution_count": 0,
      "outputs": []
    },
    {
      "metadata": {
        "id": "04xWUEGXFoS1",
        "colab_type": "code",
        "colab": {}
      },
      "cell_type": "code",
      "source": [
        "import matplotlib.pyplot as plt\n",
        "%matplotlib inline"
      ],
      "execution_count": 0,
      "outputs": []
    },
    {
      "metadata": {
        "id": "hugvEbVZ16wR",
        "colab_type": "code",
        "colab": {}
      },
      "cell_type": "code",
      "source": [
        "class DQN(nn.Module):\n",
        "  input_dim = 4\n",
        "  output_dim = 2\n",
        "  hidden = 64\n",
        "\n",
        "  def __init__(self):\n",
        "    super(DQN, self).__init__()\n",
        "    self.features = nn.Sequential(\n",
        "        nn.Linear(self.input_dim, self.hidden),\n",
        "        nn.ReLU(),\n",
        "        nn.Linear(self.hidden, self.hidden),\n",
        "        nn.ReLU())\n",
        "    self.adv = nn.Linear(self.hidden, self.output_dim)\n",
        "    self.val = nn.Linear(self.hidden, 1)\n",
        "\n",
        "  def forward(self, x):\n",
        "    x = self.features(x)\n",
        "    adv = self.adv(x)\n",
        "    val = self.val(x)\n",
        "    return val + adv - adv.mean(1, keepdim=True)"
      ],
      "execution_count": 0,
      "outputs": []
    },
    {
      "metadata": {
        "id": "6EKVMKR__LpT",
        "colab_type": "code",
        "colab": {}
      },
      "cell_type": "code",
      "source": [
        "class Agent:\n",
        "  output_dim = 2\n",
        "  lr = 1e-3\n",
        "  batch_size = 32\n",
        "  gamma = 0.99\n",
        "\n",
        "  def __init__(self):\n",
        "    self.online_net = DQN()\n",
        "    self.online_net.train()\n",
        "\n",
        "    self.target_net = DQN()\n",
        "    self.update_target_net()\n",
        "    for param in self.target_net.parameters(): param.requires_grad = False\n",
        "\n",
        "    self.optimiser = optim.Adam(self.online_net.parameters(), lr=self.lr)\n",
        "\n",
        "  def act(self, state):\n",
        "    state = torch.FloatTensor(state).unsqueeze(0)\n",
        "    with torch.no_grad():\n",
        "      return self.online_net(state).argmax(1).item()\n",
        "\n",
        "  def act_e_greedy(self, state, epsilon=0.01):\n",
        "    if random.random() < epsilon:\n",
        "      return random.randrange(self.output_dim)\n",
        "    else:\n",
        "      return self.act(state)\n",
        "\n",
        "  def _sample_batch(self, buffer):\n",
        "    s, a, r, ns, t = zip(*random.sample(buffer, self.batch_size))\n",
        "    f, l = torch.FloatTensor, torch.LongTensor\n",
        "    return f(s), l(a), f(r), f(ns), f(t)\n",
        "\n",
        "  def train_iter(self, buffer):\n",
        "    state, action, reward, next_state, terminal = self._sample_batch(buffer)\n",
        "       \n",
        "    q_value = self.online_net(state)[range(self.batch_size), action]\n",
        "    with torch.no_grad():\n",
        "      next_state_action = self.online_net(next_state).max(1)[1] # online_net to get action for next_state\n",
        "      next_qv = self.target_net(next_state)[range(self.batch_size), next_state_action] # target_net to get Q\n",
        "      target_qv = reward + self.gamma * (1 - terminal) * next_qv\n",
        "    \n",
        "    loss = (q_value - target_qv).pow(2).mean()\n",
        "\n",
        "    self.optimiser.zero_grad()\n",
        "    loss.backward()\n",
        "    self.optimiser.step()\n",
        "    return loss.item()\n",
        "\n",
        "  def update_target_net(self):\n",
        "    self.target_net.load_state_dict(self.online_net.state_dict())"
      ],
      "execution_count": 0,
      "outputs": []
    },
    {
      "metadata": {
        "id": "2Urg4wcU-pof",
        "colab_type": "code",
        "colab": {
          "base_uri": "https://localhost:8080/",
          "height": 354
        },
        "outputId": "c0b3dc92-bf89-490d-8790-ee21d9658c91"
      },
      "cell_type": "code",
      "source": [
        "buffer = deque(maxlen=5000)\n",
        "env = gym.make(\"CartPole-v0\")\n",
        "agent = Agent()\n",
        "\n",
        "rewards, loss = [], []\n",
        "episode_reward = 0\n",
        "state = env.reset()\n",
        "\n",
        "for i in trange(10000):\n",
        "  eps = .01 + .99 * math.exp(-i / 500) # close to .01 at 3500\n",
        "  action = agent.act_e_greedy(state, eps)\n",
        "  next_state, reward, done, _ = env.step(action)\n",
        "  buffer.append((state, action, reward, next_state, done))\n",
        "  \n",
        "  state = next_state\n",
        "  episode_reward += reward\n",
        "  \n",
        "  if done:\n",
        "    state = env.reset()\n",
        "    rewards.append(episode_reward)\n",
        "    episode_reward = 0\n",
        "    \n",
        "  if i > 100:\n",
        "    loss.append(agent.train_iter(buffer))\n",
        "   \n",
        "  if i > 100 and i % 100 == 0:\n",
        "    agent.update_target_net()\n",
        "\n",
        "plt.figure(figsize=(20,5))\n",
        "plt.subplot(131)\n",
        "plt.plot(rewards)\n",
        "plt.subplot(132)\n",
        "plt.plot(loss)"
      ],
      "execution_count": 6,
      "outputs": [
        {
          "output_type": "stream",
          "text": [
            "100%|██████████| 10000/10000 [01:20<00:00, 124.88it/s]\n"
          ],
          "name": "stderr"
        },
        {
          "output_type": "execute_result",
          "data": {
            "text/plain": [
              "[<matplotlib.lines.Line2D at 0x7f3c519347b8>]"
            ]
          },
          "metadata": {
            "tags": []
          },
          "execution_count": 6
        },
        {
          "output_type": "display_data",
          "data": {
            "image/png": "[encoded data removed]",
            "text/plain": [
              "<matplotlib.figure.Figure at 0x7f3c52b8fcc0>"
            ]
          },
          "metadata": {
            "tags": []
          }
        }
      ]
    },
    {
      "metadata": {
        "id": "-FXQYSSh67Iw",
        "colab_type": "code",
        "colab": {}
      },
      "cell_type": "code",
      "source": [
        ""
      ],
      "execution_count": 0,
      "outputs": []
    }
  ]
}