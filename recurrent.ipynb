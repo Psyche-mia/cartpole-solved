{
  "nbformat": 4,
  "nbformat_minor": 0,
  "metadata": {
    "colab": {
      "name": "recurrent.ipynb",
      "version": "0.3.2",
      "provenance": [],
      "collapsed_sections": []
    },
    "kernelspec": {
      "name": "python3",
      "display_name": "Python 3"
    }
  },
  "cells": [
    {
      "metadata": {
        "id": "wo-0nFZ7zLvf",
        "colab_type": "text"
      },
      "cell_type": "markdown",
      "source": [
        "Part of https://github.com/htdt/cartpole-solved\n",
        "\n",
        "**Warning!** This is not traditional way of training DQN with RNN, this is work in progress. Consider [R2D2](https://openreview.net/forum?id=r1lyTjAqYX) as reliable and well tested approach."
      ]
    },
    {
      "metadata": {
        "id": "TQJtwd56sCYy",
        "colab_type": "code",
        "colab": {}
      },
      "cell_type": "code",
      "source": [
        "!pip install torch_nightly -f https://download.pytorch.org/whl/nightly/cpu/torch_nightly.html\n",
        "!pip install -q gym ipdb"
      ],
      "execution_count": 0,
      "outputs": []
    },
    {
      "metadata": {
        "id": "fZg7tVEP6sGj",
        "colab_type": "code",
        "colab": {}
      },
      "cell_type": "code",
      "source": [
        "from collections import deque\n",
        "import gym, random, math, ipdb\n",
        "from tqdm import trange\n",
        "import numpy as np\n",
        "\n",
        "import torch\n",
        "import torch.nn as nn\n",
        "import torch.optim as optim\n",
        "\n",
        "gym.logger.set_level(40)"
      ],
      "execution_count": 0,
      "outputs": []
    },
    {
      "metadata": {
        "id": "04xWUEGXFoS1",
        "colab_type": "code",
        "colab": {}
      },
      "cell_type": "code",
      "source": [
        "import matplotlib.pyplot as plt\n",
        "%matplotlib inline"
      ],
      "execution_count": 0,
      "outputs": []
    },
    {
      "metadata": {
        "id": "nI8ss7Jq2DFx",
        "colab_type": "code",
        "colab": {}
      },
      "cell_type": "code",
      "source": [
        "N_STEP = 5"
      ],
      "execution_count": 0,
      "outputs": []
    },
    {
      "metadata": {
        "id": "hugvEbVZ16wR",
        "colab_type": "code",
        "colab": {}
      },
      "cell_type": "code",
      "source": [
        "class DQN(nn.Module):\n",
        "  input_dim = 4\n",
        "  output_dim = 2\n",
        "  hidden = 64\n",
        "\n",
        "  def __init__(self):\n",
        "    super(DQN, self).__init__()\n",
        "    self.features = nn.Sequential(\n",
        "      nn.Linear(self.input_dim, self.hidden),\n",
        "      nn.ReLU(),\n",
        "      nn.Linear(self.hidden, self.hidden),\n",
        "      nn.ReLU())\n",
        "    self.rnn = nn.GRUCell(self.hidden, self.hidden)\n",
        "    self.adv = nn.Linear(self.hidden, self.output_dim)\n",
        "    self.val = nn.Linear(self.hidden, 1)\n",
        "\n",
        "  def forward(self, x, hx):\n",
        "    x = self.features(x)\n",
        "    x = hx = self.rnn(x, hx)\n",
        "    adv = self.adv(x)\n",
        "    val = self.val(x)\n",
        "    return val + adv - adv.mean(1, keepdim=True), hx"
      ],
      "execution_count": 0,
      "outputs": []
    },
    {
      "metadata": {
        "id": "6EKVMKR__LpT",
        "colab_type": "code",
        "colab": {}
      },
      "cell_type": "code",
      "source": [
        "class Agent:\n",
        "  output_dim = 2\n",
        "  lr = 3e-4\n",
        "  batch_size = 32\n",
        "  gamma = 0.997\n",
        "\n",
        "  def __init__(self):\n",
        "    self.online_net = DQN()\n",
        "    self.online_net.train()\n",
        "\n",
        "    self.target_net = DQN()\n",
        "    self.update_target_net()\n",
        "    for param in self.target_net.parameters(): param.requires_grad = False\n",
        "\n",
        "    self.optimiser = optim.Adam(self.online_net.parameters(), lr=self.lr)\n",
        "\n",
        "  def act(self, state):\n",
        "    x = torch.FloatTensor(state[0]).unsqueeze(0)\n",
        "    hx = state[1]\n",
        "    with torch.no_grad():\n",
        "      q, hx = self.online_net(x, hx)\n",
        "      return q.argmax(1).item(), hx\n",
        "\n",
        "  def act_e_greedy(self, state, epsilon=0.01):\n",
        "    if random.random() < epsilon:\n",
        "      return random.randrange(self.output_dim), state[1]\n",
        "    else:\n",
        "      return self.act(state)\n",
        "\n",
        "  def train_iter(self, buffer):\n",
        "    state, hidden, action, reward, next_state, next_hidden, terminal = buffer.sample(self.batch_size)\n",
        "    \n",
        "    q_value = self.online_net(state, hidden)[0][range(self.batch_size), action]\n",
        "    with torch.no_grad():\n",
        "      next_qv = self.target_net(next_state, next_hidden)[0].max(1)[0]\n",
        "      target_qv = reward + (self.gamma ** N_STEP) * (1 - terminal) * next_qv\n",
        "    \n",
        "    loss = (q_value - target_qv).pow(2).mean()\n",
        "\n",
        "    self.optimiser.zero_grad()\n",
        "    loss.backward()\n",
        "    self.optimiser.step()\n",
        "    return loss.item()\n",
        "\n",
        "  def update_target_net(self):\n",
        "    self.target_net.load_state_dict(self.online_net.state_dict())"
      ],
      "execution_count": 0,
      "outputs": []
    },
    {
      "metadata": {
        "id": "n9K_P88Ep-kS",
        "colab_type": "code",
        "colab": {}
      },
      "cell_type": "code",
      "source": [
        "H0 = torch.zeros(1, 64)\n",
        "\n",
        "class ReplayBuffer():\n",
        "  def __init__(self, capacity):\n",
        "    self.capacity = capacity\n",
        "    self._buffer = deque(maxlen=self.capacity)\n",
        "  \n",
        "  def append(self, state, hidden, action, reward, terminal):\n",
        "    self._state.append(state)\n",
        "    self._hidden.append(hidden)\n",
        "    \n",
        "    if len(self._state) == N_STEP + 1 or terminal: # terminal step is crucial, append it anyway\n",
        "      self._buffer.append((self._state[0], self._hidden[0], action, reward,\\\n",
        "                           self._state[-1], self._hidden[-1], terminal))\n",
        "      self._state = self._state[-1:]\n",
        "      self._hidden = self._hidden[-1:]\n",
        "\n",
        "  def sample(self, batch_size):\n",
        "    s, h, a, r, ns, nh, t = zip(*random.sample(self._buffer, batch_size))\n",
        "    f, l = torch.FloatTensor, torch.LongTensor\n",
        "    return f(s), torch.cat(h), l(a), f(r), f(ns), torch.cat(nh), f(t)\n",
        "\n",
        "  def new_episode(self, s):\n",
        "    self._step = 0\n",
        "    self._state = [s]\n",
        "    self._hidden = [H0]\n",
        "\n",
        "  def cur_state(self):\n",
        "    return self._state[-1], self._hidden[-1]\n",
        "\n",
        "  def __len__(self):\n",
        "    return len(self._buffer)"
      ],
      "execution_count": 0,
      "outputs": []
    },
    {
      "metadata": {
        "id": "2Urg4wcU-pof",
        "colab_type": "code",
        "colab": {
          "base_uri": "https://localhost:8080/",
          "height": 356
        },
        "outputId": "3d90a361-c9c5-4802-ac7c-9e5ad8451093"
      },
      "cell_type": "code",
      "source": [
        "buffer = ReplayBuffer(2500)\n",
        "env = gym.make(\"CartPole-v0\")\n",
        "agent = Agent()\n",
        "\n",
        "rewards, loss = [], []\n",
        "episode_reward = 0\n",
        "state = env.reset()\n",
        "buffer.new_episode(state)\n",
        "\n",
        "for i in trange(15000):\n",
        "  eps = .01 + .99 * math.exp(-i / 500) # close to .01 at 3500\n",
        "  action, hx = agent.act_e_greedy(buffer.cur_state(), eps)\n",
        "  state, reward, terminal, _ = env.step(action)\n",
        "  buffer.append(state, hx, action, reward, terminal)\n",
        "  episode_reward += reward\n",
        "  \n",
        "  if terminal:\n",
        "    state = env.reset()\n",
        "    buffer.new_episode(state)\n",
        "    rewards.append(episode_reward)\n",
        "    episode_reward = 0\n",
        "\n",
        "  if len(buffer) > 100:\n",
        "    loss.append(agent.train_iter(buffer))\n",
        "   \n",
        "  if len(buffer) > 100 and i % 100 == 0:\n",
        "    agent.update_target_net()\n",
        "\n",
        "plt.figure(figsize=(20,5))\n",
        "plt.subplot(131)\n",
        "plt.plot(rewards)\n",
        "plt.subplot(132)\n",
        "plt.plot(loss)"
      ],
      "execution_count": 10,
      "outputs": [
        {
          "output_type": "stream",
          "text": [
            "100%|██████████| 15000/15000 [01:10<00:00, 211.58it/s]\n"
          ],
          "name": "stderr"
        },
        {
          "output_type": "execute_result",
          "data": {
            "text/plain": [
              "[<matplotlib.lines.Line2D at 0x7f82cc436b70>]"
            ]
          },
          "metadata": {
            "tags": []
          },
          "execution_count": 10
        },
        {
          "output_type": "display_data",
          "data": {
            "image/png": "[encoded data removed]",
            "text/plain": [
              "<matplotlib.figure.Figure at 0x7f82cee134a8>"
            ]
          },
          "metadata": {
            "tags": []
          }
        }
      ]
    },
    {
      "metadata": {
        "id": "OLM9uZWh3yfY",
        "colab_type": "code",
        "colab": {}
      },
      "cell_type": "code",
      "source": [
        ""
      ],
      "execution_count": 0,
      "outputs": []
    }
  ]
}